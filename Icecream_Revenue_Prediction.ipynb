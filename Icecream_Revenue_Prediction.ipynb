Icecream Revenue Prediction




# Step 1 : import library
import pandas as pd
# Step 2 : import data
icecream = pd.read_csv('/content/icecream revenue prediction.csv')
# Step 3 : define target (y) and features (X)
icecream.columns

Output : Index(['Temperature', 'Revenue', 'Unnamed: 2'], dtype='object')



y = icecream['Revenue']
X = icecream[['Temperature']]
# Step 4 : train test split
from sklearn.model_selection import train_test_split
X_train, X_test, y_train, y_test = train_test_split(X,y, train_size=0.7, random_state=2529)
# check shape of train and test sample
X_train.shape, X_test.shape, y_train.shape, y_test.shape

((150, 1), (65, 1), (150,), (65,))



# Step 5 : select model
from sklearn.linear_model import LinearRegression
model = LinearRegression()
# Step 6 : train or fit model
model.fit(X_train,y_train)

LinearRegression
LinearRegression()



model.intercept_

19.231901360060522



model.coef_

array([0.00984339])



# Step 7 : predict model
y_pred = model.predict(X_test)
y_pred

array([23.6712684 , 23.3169065 , 22.67708642, 23.09050863, 24.14375092,
       23.99610013, 22.50974886, 23.43502714, 23.79923241, 24.03547367,
       22.78536367, 22.55896579, 24.06500383, 22.56880918, 23.1790991 ,
       24.04531706, 22.99207477, 22.972388  , 24.12406415, 22.57865256,
       22.68692981, 22.19476051, 22.40147162, 23.57283454, 23.1101954 ,
       23.05113509, 23.88782289, 24.09453399, 22.09632665, 22.72630335,
       22.0667965 , 22.52943563, 22.1357002 , 22.61802611, 22.58849595,
       23.19878587, 22.11601343, 22.81489382, 23.29721973, 23.40549698,
       23.06097847, 23.32674989, 23.70079855, 23.12003879, 22.26366421,
       23.95672659, 23.97641336, 22.14554358, 22.8345806 , 23.6023647 ,
       22.39162823, 23.64173824, 22.36209807, 22.33256792, 23.14956894,
       22.51959225, 23.73032871, 23.81891919, 22.86411075, 22.22429067,
       23.91735304, 22.2046039 , 22.65739965, 23.83860596, 22.91332768])



# Step 8 : model accuracy
from sklearn.metrics import mean_absolute_error, mean_absolute_percentage_error, mean_squared_error
mean_absolute_error(y_test,y_pred)

6.734885952657077



mean_absolute_percentage_error(y_test,y_pred)

0.419563026086542



mean_squared_error(y_test,y_pred)

70.20243875600693
